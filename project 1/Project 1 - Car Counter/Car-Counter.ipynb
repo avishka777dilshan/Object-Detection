{
 "cells": [
  {
   "cell_type": "code",
   "execution_count": 7,
   "id": "7b6d1d29",
   "metadata": {},
   "outputs": [],
   "source": [
    "from ultralytics import YOLO\n",
    "import cv2\n",
    "import cvzone\n",
    "import math"
   ]
  },
  {
   "cell_type": "code",
   "execution_count": 11,
   "id": "0c75acc1",
   "metadata": {},
   "outputs": [],
   "source": [
    "#cap = cv2.VideoCapture(0) #For webcam\n",
    "\n",
    "#cap.set(3,640)\n",
    "#cap.set(4,480)\n",
    "\n",
    "cap = cv2.VideoCapture(\"../Videos/cars.mp4\") #For video\n",
    "mask = cv2.imread(\"mask.png\")"
   ]
  },
  {
   "cell_type": "code",
   "execution_count": 12,
   "id": "7f932875",
   "metadata": {},
   "outputs": [],
   "source": [
    "model = YOLO(\"../YOLO Weights/yolov8n.pt\")\n",
    "classNames = [\"person\", \"bicycle\", \"car\", \"motorbike\", \"aeroplane\", \"bus\", \"train\", \"truck\", \"boat\",\n",
    "              \"traffic light\", \"fire hydrant\", \"stop sign\", \"parking meter\", \"bench\", \"bird\", \"cat\",\n",
    "              \"dog\", \"horse\", \"sheep\", \"cow\", \"elephant\", \"bear\", \"zebra\", \"giraffe\", \"backpack\", \"umbrella\",\n",
    "              \"handbag\", \"tie\", \"suitcase\", \"frisbee\", \"skis\", \"snowboard\", \"sports ball\", \"kite\", \"baseball bat\",\n",
    "              \"baseball glove\", \"skateboard\", \"surfboard\", \"tennis racket\", \"bottle\", \"wine glass\", \"cup\",\n",
    "              \"fork\", \"knife\", \"spoon\", \"bowl\", \"banana\", \"apple\", \"sandwich\", \"orange\", \"broccoli\",\n",
    "              \"carrot\", \"hot dog\", \"pizza\", \"donut\", \"cake\", \"chair\", \"sofa\", \"pottedplant\", \"bed\",\n",
    "              \"diningtable\", \"toilet\", \"tvmonitor\", \"laptop\", \"mouse\", \"remote\", \"keyboard\", \"cell phone\",\n",
    "              \"microwave\", \"oven\", \"toaster\", \"sink\", \"refrigerator\", \"book\", \"clock\", \"vase\", \"scissors\",\n",
    "              \"teddy bear\", \"hair drier\", \"toothbrush\"\n",
    "              ]"
   ]
  },
  {
   "cell_type": "code",
   "execution_count": 13,
   "id": "695eddfb",
   "metadata": {},
   "outputs": [
    {
     "ename": "error",
     "evalue": "OpenCV(4.9.0) D:\\a\\opencv-python\\opencv-python\\opencv\\modules\\core\\src\\arithm.cpp:214: error: (-209:Sizes of input arguments do not match) The operation is neither 'array op array' (where arrays have the same size and type), nor 'array op scalar', nor 'scalar op array' in function 'cv::binary_op'\n",
     "output_type": "error",
     "traceback": [
      "\u001b[1;31m---------------------------------------------------------------------------\u001b[0m",
      "\u001b[1;31merror\u001b[0m                                     Traceback (most recent call last)",
      "Cell \u001b[1;32mIn[13], line 3\u001b[0m\n\u001b[0;32m      1\u001b[0m \u001b[38;5;28;01mwhile\u001b[39;00m \u001b[38;5;28;01mTrue\u001b[39;00m:\n\u001b[0;32m      2\u001b[0m     success, img \u001b[38;5;241m=\u001b[39m cap\u001b[38;5;241m.\u001b[39mread()\n\u001b[1;32m----> 3\u001b[0m     imgRegion \u001b[38;5;241m=\u001b[39m cv2\u001b[38;5;241m.\u001b[39mbitwise_and(img,mask)\n\u001b[0;32m      4\u001b[0m     results \u001b[38;5;241m=\u001b[39m model(img, stream\u001b[38;5;241m=\u001b[39m\u001b[38;5;28;01mTrue\u001b[39;00m)\n\u001b[0;32m      6\u001b[0m     \u001b[38;5;28;01mfor\u001b[39;00m r \u001b[38;5;129;01min\u001b[39;00m results:\n",
      "\u001b[1;31merror\u001b[0m: OpenCV(4.9.0) D:\\a\\opencv-python\\opencv-python\\opencv\\modules\\core\\src\\arithm.cpp:214: error: (-209:Sizes of input arguments do not match) The operation is neither 'array op array' (where arrays have the same size and type), nor 'array op scalar', nor 'scalar op array' in function 'cv::binary_op'\n"
     ]
    }
   ],
   "source": [
    "while True:\n",
    "    success, img = cap.read()\n",
    "    imgRegion = cv2.bitwise_and(img,mask)\n",
    "    results = model(img, stream=True)\n",
    "    \n",
    "    for r in results:\n",
    "        boxes = r.boxes\n",
    "        for box in boxes:\n",
    "            #bounding box\n",
    "            x1,y1,x2,y2 = box.xyxy[0]\n",
    "            x1,y1,x2,y2 = int(x1),int(y1),int(x2),int(y2)\n",
    "            #print(x1,y1,x2,y2)\n",
    "            #cv2.rectangle(img,(x1,y1),(x2,y2),(255,0,255),3)\n",
    "            w,h=x2-x1,y2-y1\n",
    "           \n",
    "            #confident\n",
    "            conf=math.ceil((box.conf[0]*100))/100\n",
    "            #print(conf)\n",
    "            #class name\n",
    "            cls = int(box.cls[0])\n",
    "            currentClass=classNames[cls]\n",
    "            \n",
    "            if currentClass == \"car\" or currentClass == \"truck\" or currentClass == \"bus\" or currentClass == \"motorbike\"\\\n",
    "                and conf>0.3:\n",
    "                cvzone.putTextRect(img,f'{currentClass},{conf}',(max(0,x1),max(35,y1)),scale=1.5,thickness=2,offset=3)\n",
    "                cvzone.cornerRect(img,(x1,y1,w,h),l=9)\n",
    "             \n",
    "    \n",
    "    cv2.imshow(\"Image\", img)\n",
    "    cv2.imshow(\"Mask\",imgRegion)\n",
    "    \n",
    "    if cv2.waitKey(1) & 0xFF == 27:  # Check if the pressed key is ESC (ASCII value 27)\n",
    "        cv2.destroyAllWindows()\n",
    "        break  # Exit the loop if ESC key is pressed\n",
    "    cv2.waitKey(0)\n",
    "    "
   ]
  },
  {
   "cell_type": "code",
   "execution_count": null,
   "id": "ad74cf6b",
   "metadata": {},
   "outputs": [],
   "source": []
  }
 ],
 "metadata": {
  "kernelspec": {
   "display_name": "Python 3 (ipykernel)",
   "language": "python",
   "name": "python3"
  },
  "language_info": {
   "codemirror_mode": {
    "name": "ipython",
    "version": 3
   },
   "file_extension": ".py",
   "mimetype": "text/x-python",
   "name": "python",
   "nbconvert_exporter": "python",
   "pygments_lexer": "ipython3",
   "version": "3.11.5"
  }
 },
 "nbformat": 4,
 "nbformat_minor": 5
}
